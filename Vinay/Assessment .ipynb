{
 "cells": [
  {
   "cell_type": "code",
   "execution_count": 1,
   "metadata": {
    "collapsed": true
   },
   "outputs": [],
   "source": [
    "import pandas as pd"
   ]
  },
  {
   "cell_type": "code",
   "execution_count": 2,
   "metadata": {
    "collapsed": true
   },
   "outputs": [],
   "source": [
    "employee_names_table='employee_names.csv'"
   ]
  },
  {
   "cell_type": "code",
   "execution_count": 3,
   "metadata": {
    "collapsed": true,
    "scrolled": true
   },
   "outputs": [],
   "source": [
    "employee_cols=['id','first_name','last_name']"
   ]
  },
  {
   "cell_type": "code",
   "execution_count": 4,
   "metadata": {
    "collapsed": true
   },
   "outputs": [],
   "source": [
    "employees_names=pd.read_table(employee_names_table, sep=',', header=None, names=employee_cols, usecols=[0,1,2])"
   ]
  },
  {
   "cell_type": "code",
   "execution_count": 6,
   "metadata": {
    "collapsed": true
   },
   "outputs": [],
   "source": [
    "employee_pay_table='employee_pay.csv'"
   ]
  },
  {
   "cell_type": "code",
   "execution_count": 7,
   "metadata": {
    "collapsed": true
   },
   "outputs": [],
   "source": [
    "employee_pay_cols=['id','salary','bonus']"
   ]
  },
  {
   "cell_type": "code",
   "execution_count": 8,
   "metadata": {
    "collapsed": true
   },
   "outputs": [],
   "source": [
    "employees_pay=pd.read_table(employee_pay_table, sep=',', header=None, names=employee_pay_cols, usecols=[0,1,2])"
   ]
  },
  {
   "cell_type": "code",
   "execution_count": 10,
   "metadata": {
    "collapsed": true
   },
   "outputs": [],
   "source": [
    "leftouter_join=pd.merge(employees_names, employees_pay, how='left')"
   ]
  },
  {
   "cell_type": "code",
   "execution_count": 11,
   "metadata": {},
   "outputs": [
    {
     "data": {
      "text/html": [
       "<div>\n",
       "<style>\n",
       "    .dataframe thead tr:only-child th {\n",
       "        text-align: right;\n",
       "    }\n",
       "\n",
       "    .dataframe thead th {\n",
       "        text-align: left;\n",
       "    }\n",
       "\n",
       "    .dataframe tbody tr th {\n",
       "        vertical-align: top;\n",
       "    }\n",
       "</style>\n",
       "<table border=\"1\" class=\"dataframe\">\n",
       "  <thead>\n",
       "    <tr style=\"text-align: right;\">\n",
       "      <th></th>\n",
       "      <th>id</th>\n",
       "      <th>first_name</th>\n",
       "      <th>last_name</th>\n",
       "      <th>salary</th>\n",
       "      <th>bonus</th>\n",
       "    </tr>\n",
       "  </thead>\n",
       "  <tbody>\n",
       "    <tr>\n",
       "      <th>0</th>\n",
       "      <td>id</td>\n",
       "      <td>first_name</td>\n",
       "      <td>last_name</td>\n",
       "      <td>salary</td>\n",
       "      <td>bonus</td>\n",
       "    </tr>\n",
       "    <tr>\n",
       "      <th>1</th>\n",
       "      <td>59ea7840fc13ae1f6d000096</td>\n",
       "      <td>Benny</td>\n",
       "      <td>Ventom</td>\n",
       "      <td>$84217.20</td>\n",
       "      <td>NaN</td>\n",
       "    </tr>\n",
       "    <tr>\n",
       "      <th>2</th>\n",
       "      <td>59ea7840fc13ae1f6d000097</td>\n",
       "      <td>Cara</td>\n",
       "      <td>Motherwell</td>\n",
       "      <td>$54737.84</td>\n",
       "      <td>NaN</td>\n",
       "    </tr>\n",
       "    <tr>\n",
       "      <th>3</th>\n",
       "      <td>59ea7840fc13ae1f6d000098</td>\n",
       "      <td>Willem</td>\n",
       "      <td>Haresign</td>\n",
       "      <td>$92092.21</td>\n",
       "      <td>NaN</td>\n",
       "    </tr>\n",
       "    <tr>\n",
       "      <th>4</th>\n",
       "      <td>59ea7840fc13ae1f6d000099</td>\n",
       "      <td>Trish</td>\n",
       "      <td>Farlane</td>\n",
       "      <td>$86117.63</td>\n",
       "      <td>NaN</td>\n",
       "    </tr>\n",
       "    <tr>\n",
       "      <th>5</th>\n",
       "      <td>59ea7840fc13ae1f6d00009a</td>\n",
       "      <td>Camilla</td>\n",
       "      <td>Limpkin</td>\n",
       "      <td>$92821.29</td>\n",
       "      <td>NaN</td>\n",
       "    </tr>\n",
       "    <tr>\n",
       "      <th>6</th>\n",
       "      <td>59ea7840fc13ae1f6d00009b</td>\n",
       "      <td>Godwin</td>\n",
       "      <td>Caffrey</td>\n",
       "      <td>$60633.55</td>\n",
       "      <td>$1779.07</td>\n",
       "    </tr>\n",
       "    <tr>\n",
       "      <th>7</th>\n",
       "      <td>59ea7840fc13ae1f6d00009c</td>\n",
       "      <td>Elvera</td>\n",
       "      <td>Custed</td>\n",
       "      <td>$94483.80</td>\n",
       "      <td>$4328.59</td>\n",
       "    </tr>\n",
       "    <tr>\n",
       "      <th>8</th>\n",
       "      <td>59ea7840fc13ae1f6d00009d</td>\n",
       "      <td>Vinson</td>\n",
       "      <td>Farres</td>\n",
       "      <td>$93127.77</td>\n",
       "      <td>NaN</td>\n",
       "    </tr>\n",
       "    <tr>\n",
       "      <th>9</th>\n",
       "      <td>59ea7840fc13ae1f6d00009e</td>\n",
       "      <td>Kliment</td>\n",
       "      <td>Pitchford</td>\n",
       "      <td>$90581.06</td>\n",
       "      <td>NaN</td>\n",
       "    </tr>\n",
       "    <tr>\n",
       "      <th>10</th>\n",
       "      <td>59ea7840fc13ae1f6d00009f</td>\n",
       "      <td>Matty</td>\n",
       "      <td>Heater</td>\n",
       "      <td>$86947.54</td>\n",
       "      <td>NaN</td>\n",
       "    </tr>\n",
       "    <tr>\n",
       "      <th>11</th>\n",
       "      <td>59ea7840fc13ae1f6d0000a0</td>\n",
       "      <td>Juana</td>\n",
       "      <td>Begg</td>\n",
       "      <td>$80646.00</td>\n",
       "      <td>$2924.69</td>\n",
       "    </tr>\n",
       "    <tr>\n",
       "      <th>12</th>\n",
       "      <td>59ea7840fc13ae1f6d0000a1</td>\n",
       "      <td>Alix</td>\n",
       "      <td>Layus</td>\n",
       "      <td>$50423.64</td>\n",
       "      <td>$1495.33</td>\n",
       "    </tr>\n",
       "    <tr>\n",
       "      <th>13</th>\n",
       "      <td>59ea7840fc13ae1f6d0000a2</td>\n",
       "      <td>Tessa</td>\n",
       "      <td>Brandes</td>\n",
       "      <td>$60695.47</td>\n",
       "      <td>NaN</td>\n",
       "    </tr>\n",
       "    <tr>\n",
       "      <th>14</th>\n",
       "      <td>59ea7840fc13ae1f6d0000a3</td>\n",
       "      <td>Hedwig</td>\n",
       "      <td>Fishley</td>\n",
       "      <td>$85763.22</td>\n",
       "      <td>NaN</td>\n",
       "    </tr>\n",
       "    <tr>\n",
       "      <th>15</th>\n",
       "      <td>59ea7840fc13ae1f6d0000a4</td>\n",
       "      <td>Cordelia</td>\n",
       "      <td>Aubray</td>\n",
       "      <td>$60600.37</td>\n",
       "      <td>NaN</td>\n",
       "    </tr>\n",
       "  </tbody>\n",
       "</table>\n",
       "</div>"
      ],
      "text/plain": [
       "                          id  first_name   last_name     salary     bonus\n",
       "0                         id  first_name   last_name     salary     bonus\n",
       "1   59ea7840fc13ae1f6d000096       Benny      Ventom  $84217.20       NaN\n",
       "2   59ea7840fc13ae1f6d000097        Cara  Motherwell  $54737.84       NaN\n",
       "3   59ea7840fc13ae1f6d000098      Willem    Haresign  $92092.21       NaN\n",
       "4   59ea7840fc13ae1f6d000099       Trish     Farlane  $86117.63       NaN\n",
       "5   59ea7840fc13ae1f6d00009a     Camilla     Limpkin  $92821.29       NaN\n",
       "6   59ea7840fc13ae1f6d00009b      Godwin     Caffrey  $60633.55  $1779.07\n",
       "7   59ea7840fc13ae1f6d00009c      Elvera      Custed  $94483.80  $4328.59\n",
       "8   59ea7840fc13ae1f6d00009d      Vinson      Farres  $93127.77       NaN\n",
       "9   59ea7840fc13ae1f6d00009e     Kliment   Pitchford  $90581.06       NaN\n",
       "10  59ea7840fc13ae1f6d00009f       Matty      Heater  $86947.54       NaN\n",
       "11  59ea7840fc13ae1f6d0000a0       Juana        Begg  $80646.00  $2924.69\n",
       "12  59ea7840fc13ae1f6d0000a1        Alix       Layus  $50423.64  $1495.33\n",
       "13  59ea7840fc13ae1f6d0000a2       Tessa     Brandes  $60695.47       NaN\n",
       "14  59ea7840fc13ae1f6d0000a3      Hedwig     Fishley  $85763.22       NaN\n",
       "15  59ea7840fc13ae1f6d0000a4    Cordelia      Aubray  $60600.37       NaN"
      ]
     },
     "execution_count": 11,
     "metadata": {},
     "output_type": "execute_result"
    }
   ],
   "source": [
    "leftouter_join"
   ]
  }
 ],
 "metadata": {
  "kernelspec": {
   "display_name": "Python 2",
   "language": "python",
   "name": "python2"
  },
  "language_info": {
   "codemirror_mode": {
    "name": "ipython",
    "version": 2
   },
   "file_extension": ".py",
   "mimetype": "text/x-python",
   "name": "python",
   "nbconvert_exporter": "python",
   "pygments_lexer": "ipython2",
   "version": "2.7.13"
  }
 },
 "nbformat": 4,
 "nbformat_minor": 2
}
